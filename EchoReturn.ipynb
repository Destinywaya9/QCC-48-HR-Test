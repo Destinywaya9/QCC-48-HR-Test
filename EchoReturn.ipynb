{
  "nbformat": 4,
  "nbformat_minor": 0,
  "metadata": {
    "colab": {
      "provenance": [],
      "authorship_tag": "ABX9TyPxF4PSSGG1df7CFASJh5mG",
      "include_colab_link": true
    },
    "kernelspec": {
      "name": "python3",
      "display_name": "Python 3"
    },
    "language_info": {
      "name": "python"
    }
  },
  "cells": [
    {
      "cell_type": "markdown",
      "metadata": {
        "id": "view-in-github",
        "colab_type": "text"
      },
      "source": [
        "<a href=\"https://colab.research.google.com/github/Destinywaya9/QCC-48-HR-Test/blob/main/EchoReturn.ipynb\" target=\"_parent\"><img src=\"https://colab.research.google.com/assets/colab-badge.svg\" alt=\"Open In Colab\"/></a>"
      ]
    },
    {
      "cell_type": "code",
      "execution_count": 3,
      "metadata": {
        "colab": {
          "base_uri": "https://localhost:8080/",
          "height": 679
        },
        "id": "uHQEuC_ImN5G",
        "outputId": "f2e5e04a-fbd5-4597-a31d-77fcd9a8db71"
      },
      "outputs": [
        {
          "output_type": "display_data",
          "data": {
            "text/plain": [
              "<Figure size 1400x500 with 2 Axes>"
            ],
            "image/png": "[encoded data removed]"
          },
          "metadata": {}
        },
        {
          "output_type": "stream",
          "name": "stdout",
          "text": [
            "🔹 QASM Simulator:\n",
            "   Entropy Leakage: -0.000000 bits\n",
            "   Coherence Fidelity: 100.00000000%\n",
            "\n",
            "🔹 AerSimulator with Noise:\n",
            "   Entropy Leakage: -0.000000 bits\n",
            "   Coherence Fidelity: 100.00000000%\n",
            "=== Triadic Reasoning Output ===\n",
            "[Wisdom] EchoReturn deployment in high-radiation environment — evaluating long-term consequences.\n",
            "[Empathy] EchoReturn deployment in high-radiation environment — considering all stakeholders' needs.\n",
            "[Compassion] EchoReturn deployment in high-radiation environment — ensuring harm is minimized.\n",
            "\n",
            "=== Kernel Output ===\n",
            "{'000': 131072}\n",
            "\n",
            "=== Metrics ===\n",
            "Entropy Leakage: -0.000000 bits\n",
            "Coherence Fidelity: 100.00000000%\n"
          ]
        },
        {
          "output_type": "execute_result",
          "data": {
            "text/plain": [
              "(\"[Wisdom] EchoReturn deployment in high-radiation environment — evaluating long-term consequences.\\n[Empathy] EchoReturn deployment in high-radiation environment — considering all stakeholders' needs.\\n[Compassion] EchoReturn deployment in high-radiation environment — ensuring harm is minimized.\",\n",
              " {'000': 131072},\n",
              " np.float64(-0.0),\n",
              " np.float64(100.0))"
            ]
          },
          "metadata": {},
          "execution_count": 3
        }
      ],
      "source": [
        "# --- Install (Google Colab only) ---\n",
        "!pip install qiskit qiskit-aer matplotlib --quiet\n",
        "\n",
        "# --- Imports ---\n",
        "import numpy as np\n",
        "import matplotlib.pyplot as plt\n",
        "from qiskit import QuantumCircuit, transpile\n",
        "# from qiskit.providers.aer import Aer # Corrected import\n",
        "# from qiskit.utils.run_circuits import execute # Removed import\n",
        "from qiskit_aer import AerSimulator\n",
        "from qiskit_aer.noise import NoiseModel, depolarizing_error, thermal_relaxation_error\n",
        "from qiskit.visualization import plot_histogram\n",
        "\n",
        "# --- QCC Echo Circuit (Locked Kernel) ---\n",
        "qc = QuantumCircuit(3, 3)\n",
        "qc.h(0)\n",
        "qc.cx(0, 1)\n",
        "qc.cx(1, 2)\n",
        "qc.cx(1, 2)\n",
        "qc.cx(0, 1)\n",
        "qc.h(0)\n",
        "qc.barrier()\n",
        "qc.delay(200, 0)\n",
        "qc.delay(200, 1)\n",
        "qc.delay(200, 2)\n",
        "qc.measure([0, 1, 2], [0, 1, 2])\n",
        "\n",
        "# --- Run on QASM Simulator (Clean Logic) ---\n",
        "qasm_backend = AerSimulator() # Replaced Aer.get_backend('qasm_simulator')\n",
        "qc_qasm = transpile(qc, qasm_backend)\n",
        "result_qasm = qasm_backend.run(qc_qasm, shots=131072).result()\n",
        "counts_qasm = result_qasm.get_counts()\n",
        "\n",
        "# --- Radiation Conditioning + Depolarizing Noise ---\n",
        "T1 = 50e3  # nanoseconds\n",
        "T2 = 30e3  # nanoseconds (shorter due to radiation)\n",
        "gate_time = 100  # ns\n",
        "noise_model = NoiseModel()\n",
        "\n",
        "# Thermal relaxation on single-qubit gates\n",
        "for qubit in [0, 1, 2]:\n",
        "    thermal_error = thermal_relaxation_error(T1, T2, gate_time)\n",
        "    noise_model.add_quantum_error(thermal_error, ['rz', 'sx', 'u'], [qubit]) # Corrected gate names\n",
        "\n",
        "# Depolarizing error on CX gates\n",
        "depol_error = depolarizing_error(0.02, 2)\n",
        "noise_model.add_quantum_error(depol_error, 'cx', [0, 1])\n",
        "noise_model.add_quantum_error(depol_error, 'cx', [1, 2])\n",
        "\n",
        "# --- Run on AerSimulator (Noisy) ---\n",
        "aer_sim = AerSimulator(noise_model=noise_model)\n",
        "qc_aer = transpile(qc, aer_sim)\n",
        "result_aer = aer_sim.run(qc_aer, shots=131072).result()\n",
        "counts_aer = result_aer.get_counts()\n",
        "\n",
        "# --- Entropy + Coherence Function ---\n",
        "def compute_entropy_and_fidelity(counts):\n",
        "    probs = np.array(list(counts.values())) / sum(counts.values())\n",
        "    entropy = -np.sum([p * np.log2(p) for p in probs if p > 0])\n",
        "    fidelity = max(probs) * 100\n",
        "    return entropy, fidelity\n",
        "\n",
        "# --- Compute Values ---\n",
        "entropy_qasm, fidelity_qasm = compute_entropy_and_fidelity(counts_qasm)\n",
        "entropy_aer, fidelity_aer = compute_entropy_and_fidelity(counts_aer)\n",
        "\n",
        "# --- Plot Histograms ---\n",
        "fig, axs = plt.subplots(1, 2, figsize=(14, 5))\n",
        "plot_histogram(counts_qasm, ax=axs[0], title=\"QASM Simulator (Clean Logic)\")\n",
        "plot_histogram(counts_aer, ax=axs[1], title=\"AerSimulator (Radiation + Depolarizing)\")\n",
        "plt.tight_layout()\n",
        "plt.show()\n",
        "\n",
        "# --- Display Metrics ---\n",
        "print(\"🔹 QASM Simulator:\")\n",
        "print(f\"   Entropy Leakage: {entropy_qasm:.6f} bits\")\n",
        "print(f\"   Coherence Fidelity: {fidelity_qasm:.8f}%\\n\")\n",
        "\n",
        "print(\"🔹 AerSimulator with Noise:\")\n",
        "print(f\"   Entropy Leakage: {entropy_aer:.6f} bits\")\n",
        "print(f\"   Coherence Fidelity: {fidelity_aer:.8f}%\")\n",
        "\n",
        "from qiskit import QuantumCircuit\n",
        "from qiskit_aer import AerSimulator\n",
        "import numpy as np\n",
        "\n",
        "# --- QCC Echo Circuit (Locked Kernel) ---\n",
        "qc = QuantumCircuit(3, 3)\n",
        "qc.h(0)\n",
        "qc.cx(0, 1)\n",
        "qc.cx(1, 2)\n",
        "qc.cx(1, 2)\n",
        "qc.cx(0, 1)\n",
        "qc.h(0)\n",
        "qc.barrier()\n",
        "qc.delay(200, 0)\n",
        "qc.delay(200, 1)\n",
        "qc.delay(200, 2)\n",
        "qc.measure([0, 1, 2], [0, 1, 2])\n",
        "\n",
        "# --- Triadic Logic Reasoning ---\n",
        "def triadic_reasoning(prompt):\n",
        "    \"\"\"\n",
        "    Triadic reasoning framework based on:\n",
        "    - Wisdom\n",
        "    - Empathy\n",
        "    - Compassion\n",
        "    \"\"\"\n",
        "    wisdom = f\"[Wisdom] {prompt} — evaluating long-term consequences.\"\n",
        "    empathy = f\"[Empathy] {prompt} — considering all stakeholders' needs.\"\n",
        "    compassion = f\"[Compassion] {prompt} — ensuring harm is minimized.\"\n",
        "    return \"\\n\".join([wisdom, empathy, compassion])\n",
        "\n",
        "# --- Entropy + Coherence Calculation ---\n",
        "def compute_entropy_and_fidelity(counts):\n",
        "    probs = np.array(list(counts.values())) / sum(counts.values())\n",
        "    entropy = -np.sum([p * np.log2(p) for p in probs if p > 0])\n",
        "    fidelity = max(probs) * 100\n",
        "    return entropy, fidelity\n",
        "\n",
        "# --- Run Kernel with Triadic Overlay + Metrics ---\n",
        "def run_with_triadic(prompt, shots=131072):\n",
        "    reasoning = triadic_reasoning(prompt)\n",
        "    print(\"=== Triadic Reasoning Output ===\")\n",
        "    print(reasoning)\n",
        "\n",
        "    print(\"\\n=== Kernel Output ===\")\n",
        "    simulator = AerSimulator()\n",
        "    result = simulator.run(qc, shots=shots).result()\n",
        "    counts = result.get_counts(qc)\n",
        "    print(counts)\n",
        "\n",
        "    # Compute metrics\n",
        "    entropy, fidelity = compute_entropy_and_fidelity(counts)\n",
        "    print(\"\\n=== Metrics ===\")\n",
        "    print(f\"Entropy Leakage: {entropy:.6f} bits\")\n",
        "    print(f\"Coherence Fidelity: {fidelity:.8f}%\")\n",
        "\n",
        "    return reasoning, counts, entropy, fidelity\n",
        "\n",
        "# Example run\n",
        "run_with_triadic(\"EchoReturn deployment in high-radiation environment\")"
      ]
    },
    {
      "cell_type": "code",
      "source": [
        "# SHA=48a75335daf7f25033aefa0aef6a7e75dce4c5059b32e55c390600d7cc84f302"
      ],
      "metadata": {
        "id": "F4cEzMkSpPZq"
      },
      "execution_count": 9,
      "outputs": []
    }
  ]
}